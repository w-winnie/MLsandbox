{
 "cells": [
  {
   "cell_type": "markdown",
   "id": "e201cf49",
   "metadata": {},
   "source": [
    "### Imports"
   ]
  },
  {
   "cell_type": "code",
   "execution_count": 1,
   "id": "d9dd7c05",
   "metadata": {},
   "outputs": [],
   "source": [
    "import matplotlib.pyplot as plt\n",
    "from datetime import datetime, timedelta\n",
    "import numpy as np\n",
    "import math"
   ]
  },
  {
   "cell_type": "markdown",
   "id": "5346105f",
   "metadata": {},
   "source": [
    "\n",
    "https://naif.jpl.nasa.gov/naif/Ancillary_Data_Production_v2.pdf"
   ]
  },
  {
   "cell_type": "code",
   "execution_count": 2,
   "id": "bf8b5057",
   "metadata": {},
   "outputs": [],
   "source": [
    "# https://naif.jpl.nasa.gov/naif/aboutspice.html\n",
    "import spiceypy as spice"
   ]
  },
  {
   "cell_type": "markdown",
   "id": "354651b6",
   "metadata": {},
   "source": [
    "### Constants"
   ]
  },
  {
   "cell_type": "code",
   "execution_count": 3,
   "id": "cd8ec025",
   "metadata": {},
   "outputs": [],
   "source": [
    "DEG = np.pi / 180.0 #degrees #spice angles are in radians\n",
    "MU_SUN = 1.32712440018e11  #km^3/s^2 #standard gravitational parameter of Sun"
   ]
  },
  {
   "cell_type": "markdown",
   "id": "36f344f4",
   "metadata": {},
   "source": [
    "### Get Data"
   ]
  },
  {
   "cell_type": "code",
   "execution_count": 4,
   "id": "95dba3d2",
   "metadata": {},
   "outputs": [],
   "source": [
    "# https://naif.jpl.nasa.gov/pub/naif/generic_kernels/pck/\n",
    "# https://naif.jpl.nasa.gov/pub/naif/generic_kernels/lsk/\n",
    "\n",
    "def load_kernels():\n",
    "    spice.furnsh(\"../data/naif0012.tls\")      # Leap seconds - conversion of earth time to ephemeris time\n",
    "    spice.furnsh(\"../data/de440s.bsp\")        # Ephemeris data - position and velocities\n",
    "    spice.furnsh(\"../data/pck00011.tpc\")      # Planetary constants - radius, spin axes, rotation rates etc."
   ]
  },
  {
   "cell_type": "markdown",
   "id": "8ce33628",
   "metadata": {},
   "source": [
    "### Get Angle between 2 Vectors"
   ]
  },
  {
   "attachments": {
    "image.png": {
     "image/png": "[encoded data removed]"
    }
   },
   "cell_type": "markdown",
   "id": "964ee3c5",
   "metadata": {},
   "source": [
    "![image.png](attachment:image.png)"
   ]
  },
  {
   "cell_type": "code",
   "execution_count": 5,
   "id": "5931826e",
   "metadata": {},
   "outputs": [],
   "source": [
    "def get_angle_between_vectors(v1, v2):\n",
    "    v1 = np.array(v1, dtype=float)\n",
    "    v2 = np.array(v2, dtype=float)\n",
    "    dot = np.dot(v1, v2)\n",
    "    norm1 = np.linalg.norm(v1)\n",
    "    norm2 = np.linalg.norm(v2)\n",
    "    if norm1 == 0 or norm2 == 0:\n",
    "        raise ValueError(\"One of the vectors has zero length\")\n",
    "    cos_theta = dot / (norm1 * norm2)\n",
    "    cos_theta = np.clip(cos_theta, -1.0, 1.0)\n",
    "    return np.arccos(cos_theta)\n",
    "    # return spice.vsep(v1, v2)"
   ]
  },
  {
   "cell_type": "markdown",
   "id": "48db9f01",
   "metadata": {},
   "source": [
    "### Get Angular Distance"
   ]
  },
  {
   "attachments": {
    "image.png": {
     "image/png": "[encoded data removed]"
    }
   },
   "cell_type": "markdown",
   "id": "ced039e6",
   "metadata": {},
   "source": [
    "![image.png](attachment:image.png)"
   ]
  },
  {
   "cell_type": "code",
   "execution_count": 6,
   "id": "7174d9d0",
   "metadata": {},
   "outputs": [],
   "source": [
    "# Get angular radius (how big a body of given radius looks from given distance) - values clamped [0,1]\n",
    "def get_angular_radius(radius_km, dist_km):\n",
    "    x = max(0.0, min(1.0, radius_km / max(dist_km, 1e-9)))\n",
    "    return math.asin(x)"
   ]
  },
  {
   "cell_type": "markdown",
   "id": "ceeb8876",
   "metadata": {},
   "source": [
    "### Get Radius"
   ]
  },
  {
   "cell_type": "markdown",
   "id": "1a7ebc6a",
   "metadata": {},
   "source": [
    "SPICE stores 3 radii (across x, y, z) - as things are not perfect spheres  \n",
    "so we take a mean of the 3  "
   ]
  },
  {
   "cell_type": "code",
   "execution_count": 7,
   "id": "5672eaf7",
   "metadata": {},
   "outputs": [],
   "source": [
    "# https://naif.jpl.nasa.gov/pub/naif/toolkit_docs/IDL/icy/cspice_bodvrd.html\n",
    "def get_mean_radius_km(body_name):\n",
    "    radii = spice.bodvrd(body_name.upper(), \"RADII\", 3)[1]\n",
    "    return float(np.mean(radii))"
   ]
  },
  {
   "cell_type": "markdown",
   "id": "fe6adb53",
   "metadata": {},
   "source": [
    "### Get State Vector"
   ]
  },
  {
   "cell_type": "markdown",
   "id": "d383006b",
   "metadata": {},
   "source": [
    "are basically a vector concatenating position and velocity of a body in 3 cartesian coordinates w.r.t. another body"
   ]
  },
  {
   "attachments": {
    "image.png": {
     "image/png": "[encoded data removed]"
    }
   },
   "cell_type": "markdown",
   "id": "81b5e612",
   "metadata": {},
   "source": [
    "![image.png](attachment:image.png)"
   ]
  },
  {
   "cell_type": "code",
   "execution_count": 8,
   "id": "578d1fb6",
   "metadata": {},
   "outputs": [],
   "source": [
    " def get_state_vec(targ, obs, et, ref=\"J2000\"):\n",
    "    state, lt = spice.spkgeo(targ=targ, et=et, ref=ref, obs=obs)\n",
    "    return np.array(state[:3])"
   ]
  },
  {
   "cell_type": "markdown",
   "id": "c70ca0f2",
   "metadata": {},
   "source": [
    "#### Alternate"
   ]
  },
  {
   "cell_type": "markdown",
   "id": "33a33b49",
   "metadata": {},
   "source": [
    "https://orbital-mechanics.space/intro.html"
   ]
  },
  {
   "cell_type": "markdown",
   "id": "dfe9b59e",
   "metadata": {},
   "source": [
    "https://mae-nas.eng.usu.edu/MAE_5540_Web/propulsion_systems/section2/section2.2.pdf"
   ]
  },
  {
   "attachments": {
    "image.png": {
     "image/png": "[encoded data removed]"
    }
   },
   "cell_type": "markdown",
   "id": "8886c6fa",
   "metadata": {},
   "source": [
    "Mean motion (n) is the average angular speed of a body in its orbit, defined as the rate at which it sweeps out equal areas in equal times  \n",
    " ![image.png](attachment:image.png)  \n",
    " n = np.sqrt(mu / semi_major_ax_km**3)"
   ]
  },
  {
   "attachments": {
    "image.png": {
     "image/png": "[encoded data removed]"
    }
   },
   "cell_type": "markdown",
   "id": "1139b8ff",
   "metadata": {},
   "source": [
    "Mean Anomaly (M) is the angle that a body would have moved if it were moving at a constant angular speed equal to the mean motion (n) from periapsis at epoch time to the current time. It is used in Kepler's equation to find the eccentric anomaly (E)  \n",
    " ![image.png](attachment:image.png)  \n",
    " M = mean_anomaly_epoch + n * time_since_epoch"
   ]
  },
  {
   "attachments": {
    "image.png": {
     "image/png": "[encoded data removed]"
    }
   },
   "cell_type": "markdown",
   "id": "70d13513",
   "metadata": {},
   "source": [
    "Eccentric Anomaly (E) is the angle that describes the position of a body in its elliptical orbit, measured from the center of the ellipse. It is used to relate the mean anomaly (M) to the true anomaly (θ) in Kepler's laws of planetary motion. Eccentric anomaly is defined such that it is related to the mean anomaly through Kepler's equation  \n",
    "![image.png](attachment:image.png)  \n",
    "E = E - (E - e*np.sin(E) - M) / (1 - e*np.cos(E))"
   ]
  },
  {
   "attachments": {
    "image.png": {
     "image/png": "[encoded data removed]"
    }
   },
   "cell_type": "markdown",
   "id": "ee8a3552",
   "metadata": {},
   "source": [
    "True Anomaly (θ) is the angle between the direction of periapsis and the current position of the body in its orbit, measured at the main focus of the ellipse where the central body is located. It is used to describe the position of a body in its elliptical orbit relative to periapsis  \n",
    "![image.png](attachment:image.png)  \n",
    "theta = 2*np.arctan2(np.sqrt(1+eccentricity)*np.sin(E/2),np.sqrt(1-eccentricity)*np.cos(E/2))"
   ]
  },
  {
   "attachments": {
    "image.png": {
     "image/png": "[encoded data removed]"
    }
   },
   "cell_type": "markdown",
   "id": "7d110381",
   "metadata": {},
   "source": [
    "Radius in the orbit (from focus) based on accentricity    \n",
    "![image.png](attachment:image.png)  \n",
    "r_mag = semi_major_ax_km * (1 - eccentricity*np.cos(E))"
   ]
  },
  {
   "attachments": {
    "image.png": {
     "image/png": "[encoded data removed]"
    }
   },
   "cell_type": "markdown",
   "id": "7893b634",
   "metadata": {},
   "source": [
    "Position Vector (orbital plane)  \n",
    "![image.png](attachment:image.png)  \n",
    "r_orb = np.array([r_mag*np.cos(theta), r_mag*np.sin(theta), 0])"
   ]
  },
  {
   "attachments": {
    "image.png": {
     "image/png": "[encoded data removed]"
    }
   },
   "cell_type": "markdown",
   "id": "0890cdca",
   "metadata": {},
   "source": [
    "Orbital Velocity  \n",
    "![image.png](attachment:image.png)  \n",
    "v_orb = np.array([\n",
    "    -np.sqrt(mu*semi_major_ax_km)/r_mag * np.sin(E),\n",
    "     np.sqrt(mu*semi_major_ax_km)/r_mag * np.sqrt(1-e**2) * np.cos(E),\n",
    "     0\n",
    "])"
   ]
  },
  {
   "cell_type": "code",
   "execution_count": 9,
   "id": "11bd417e",
   "metadata": {},
   "outputs": [],
   "source": [
    "def get_kepler_state_vector(semi_major_ax_km, eccentricity, inclination, ra_ascending_node, \n",
    "                            arg_periapsis, mean_anomaly_epoch, time_epoch, mu=MU_SUN):\n",
    "    n = np.sqrt(mu / semi_major_ax_km**3)\n",
    "    M = mean_anomaly_epoch + n * time_epoch\n",
    "    \n",
    "    E = M\n",
    "    for _ in range(50):\n",
    "        E = E - (E - e*np.sin(E) - M) / (1 - e*np.cos(E))\n",
    "    theta = 2*np.arctan2(np.sqrt(1+eccentricity)*np.sin(E/2),np.sqrt(1-eccentricity)*np.cos(E/2))\n",
    "    \n",
    "    r_mag = semi_major_ax_km * (1 - eccentricity*np.cos(E))\n",
    "    r_orb = np.array([r_mag*np.cos(theta), r_mag*np.sin(theta), 0])\n",
    "    v_orb = np.array([\n",
    "        -np.sqrt(mu*semi_major_ax_km)/r_mag * np.sin(E),\n",
    "         np.sqrt(mu*semi_major_ax_km)/r_mag * np.sqrt(1-e**2) * np.cos(E),\n",
    "         0\n",
    "    ])\n",
    "    \n",
    "    cos_raan, sin_raan = np.cos(ra_ascending_node), np.sin(ra_ascending_node)\n",
    "    cos_i, sin_i = np.cos(inclination), np.sin(inclination)\n",
    "    cos_argp, sin_argp = np.cos(arg_periapsis), np.sin(arg_periapsis)\n",
    "\n",
    "    R = np.array([\n",
    "        [cos_raan*cos_argp - sin_raan*sin_argp*cos_i, -cos_raan*sin_argp - sin_raan*cos_argp*cos_i, sin_raan*sin_i],\n",
    "        [sin_raan*cos_argp + cos_raan*sin_argp*cos_i, -sin_raan*sin_argp + cos_raan*cos_argp*cos_i, -cos_raan*sin_i],\n",
    "        [sin_argp*sin_i,                              cos_argp*sin_i,                               cos_i]\n",
    "    ])\n",
    "\n",
    "    r = R @ r_orb\n",
    "    v = R @ v_orb\n",
    "    return r, v"
   ]
  },
  {
   "cell_type": "code",
   "execution_count": 10,
   "id": "c75ee008",
   "metadata": {},
   "outputs": [
    {
     "name": "stdout",
     "output_type": "stream",
     "text": [
      "Kepler state vector position (km): [-1.45617502e+08 -3.63748466e+07 -5.59462521e+01]\n",
      "Kepler state vector velocity (km/s): [ 6.72207874e+00 -2.89154307e+01 -2.36022131e-05]\n"
     ]
    }
   ],
   "source": [
    "# Convert degrees to radians\n",
    "deg = np.pi/180\n",
    "a = 149598023  # km\n",
    "e = 0.0167\n",
    "i = 0.00005 * deg\n",
    "raan = -11.26064 * deg\n",
    "argp = 102.94719 * deg\n",
    "M0 = 100.46435 * deg\n",
    "\n",
    "# Time since epoch = 0 (J2000)\n",
    "dt = 0.0  \n",
    "\n",
    "r, v = get_kepler_state_vector(semi_major_ax_km=a, eccentricity=e, inclination=i,\n",
    "                                ra_ascending_node=raan, arg_periapsis=argp,mean_anomaly_epoch=M0, time_epoch=dt)\n",
    "# get_kepler_state_vector(a, e, i, raan, argp, M0, dt)\n",
    "print(\"Kepler state vector position (km):\", r)\n",
    "print(\"Kepler state vector velocity (km/s):\", v)\n"
   ]
  },
  {
   "cell_type": "code",
   "execution_count": 11,
   "id": "ea2d1541",
   "metadata": {},
   "outputs": [
    {
     "name": "stdout",
     "output_type": "stream",
     "text": [
      "SPICE state vector position (km): [ 2.67327232e+07 -1.32724330e+08 -5.75347084e+07]\n"
     ]
    }
   ],
   "source": [
    "load_kernels()\n",
    "t = datetime.fromisoformat(\"2025-01-01\")\n",
    "et = spice.utc2et(t.strftime(\"%Y-%m-%dT%H:%M:%S\")) \n",
    "\n",
    "r_spice = get_state_vec(10, 399, et)\n",
    "print(\"SPICE state vector position (km):\", r_spice)\n",
    "# print(\"Kepler state vector velocity (km/s):\", v_spice)\n"
   ]
  },
  {
   "cell_type": "markdown",
   "id": "ae582477",
   "metadata": {},
   "source": [
    "### Get Separation over time range"
   ]
  },
  {
   "cell_type": "code",
   "execution_count": null,
   "id": "afb8fd4d",
   "metadata": {},
   "outputs": [],
   "source": [
    "def solar_moon_separation_over_range(start_date, end_date, step_hours=6):\n",
    "    \"\"\"Sun–Moon angular separation (as seen from Earth’s center) over time.\"\"\"\n",
    "    ets, seps_deg, dates = [], [], []\n",
    "    t = start_date\n",
    "    while t <= end_date:\n",
    "        et = spice.utc2et(t.strftime(\"%Y-%m-%dT%H:%M:%S\"))\n",
    "        # Vectors from Earth to Sun and Moon:\n",
    "        r_es = state_vec(10, 399, et)     # Sun wrt Earth\n",
    "        r_em = state_vec(301, 399, et)    # Moon wrt Earth\n",
    "        sep = ang(r_es, r_em) * DEG\n",
    "        ets.append(et); seps_deg.append(sep); dates.append(t)\n",
    "        t += timedelta(hours=step_hours)\n",
    "    return np.array(ets), np.array(seps_deg), dates"
   ]
  },
  {
   "cell_type": "markdown",
   "id": "8c388f21",
   "metadata": {},
   "source": [
    "### Get Eclipse Candidate"
   ]
  },
  {
   "cell_type": "code",
   "execution_count": null,
   "id": "fa91486c",
   "metadata": {},
   "outputs": [],
   "source": [
    "def lunar_eclipse_candidates(start_date, end_date, step_hours=2, tol_deg=0.8):\n",
    "    \"\"\"\n",
    "    Very reasonable lunar-eclipse test (umbra criterion, geocentric):\n",
    "    At the Moon, compare angular radius of Earth versus Sun.\n",
    "    If Moon is near the anti-solar direction of Earth and Earth’s apparent radius\n",
    "    exceeds Sun’s by some margin, we flag a candidate.\n",
    "    \"\"\"\n",
    "    dates, flags = [], []\n",
    "    t = start_date\n",
    "\n",
    "    # Body mean radii (km)\n",
    "    R_earth = mean_radius_km(\"EARTH\")\n",
    "    R_sun   = mean_radius_km(\"SUN\")\n",
    "\n",
    "    while t <= end_date:\n",
    "        et = spice.utc2et(t.strftime(\"%Y-%m-%dT%H:%M:%S\"))\n",
    "        # Positions wrt Moon:\n",
    "        r_me = -state_vec(301, 399, et)               # Earth wrt Moon = negative of Moon wrt Earth\n",
    "        r_ms =  state_vec(10, 301, et)                # Sun wrt Moon\n",
    "\n",
    "        # Distances\n",
    "        d_me = np.linalg.norm(r_me)                   # Moon->Earth\n",
    "        d_ms = np.linalg.norm(r_ms)                   # Moon->Sun\n",
    "\n",
    "        # Angular radii as seen from Moon\n",
    "        alpha_E = angular_radius(R_earth, d_me)\n",
    "        alpha_S = angular_radius(R_sun,   d_ms)\n",
    "\n",
    "        # Angle between anti-solar direction and Earth direction as seen from Moon\n",
    "        # Anti-solar vector at Moon is -r_ms; compare it to r_me\n",
    "        theta = ang(r_me, -r_ms) * DEG\n",
    "\n",
    "        # Heuristic: alignment within tol_deg and Earth's apparent radius >= Sun's ⇒ umbral possibility\n",
    "        is_candidate = (theta < tol_deg) and (alpha_E > alpha_S)\n",
    "        dates.append(t); flags.append(is_candidate)\n",
    "        t += timedelta(hours=step_hours)\n",
    "\n",
    "    # Collapse contiguous runs to date windows\n",
    "    windows = []\n",
    "    active = False; start = None\n",
    "    for i, flag in enumerate(flags):\n",
    "        if flag and not active:\n",
    "            active = True; start = dates[i]\n",
    "        if active and (not flag or i == len(flags)-1):\n",
    "            end = dates[i] if flag else dates[i-1]\n",
    "            windows.append((start, end))\n",
    "            active = False\n",
    "    return windows\n",
    "\n",
    "\n"
   ]
  },
  {
   "cell_type": "markdown",
   "id": "fc40ec41",
   "metadata": {},
   "source": [
    "### Get Simulation"
   ]
  },
  {
   "cell_type": "code",
   "execution_count": null,
   "id": "8d78c153",
   "metadata": {},
   "outputs": [],
   "source": [
    "def run_sim(start=\"2025-01-01\", stop=\"2025-12-31\", solar_sep_threshold_deg=0.6, sep_step_hours=6):\n",
    "    load_kernels()\n",
    "    start_date = datetime.fromisoformat(start)\n",
    "    end_date   = datetime.fromisoformat(stop)\n",
    "\n",
    "    # Solar eclipse candidates by small Sun–Moon separation (geocentric)\n",
    "    ets, seps_deg, dates = solar_moon_separation_over_range(\n",
    "        start_date, end_date, step_hours=sep_step_hours\n",
    "    )\n",
    "    # Candidate timestamps\n",
    "    solar_idx = np.where(seps_deg < solar_sep_threshold_deg)[0]\n",
    "    solar_dates = [dates[i] for i in solar_idx]\n",
    "\n",
    "    # Lunar eclipse candidates via umbra criterion at Moon\n",
    "    lunar_windows = lunar_eclipse_candidates(\n",
    "        start_date, end_date, step_hours=2, tol_deg=0.8\n",
    "    )\n",
    "\n",
    "    # Plot Sun–Moon separation\n",
    "    plt.figure(figsize=(12, 5))\n",
    "    plt.plot(dates, seps_deg, label=\"Sun–Moon separation (deg)\")\n",
    "    if len(solar_idx):\n",
    "        y = [solar_sep_threshold_deg]*len(dates)\n",
    "        plt.axhline(solar_sep_threshold_deg, linestyle=\"--\", label=\"Solar eclipse threshold\")\n",
    "    plt.title(\"Geocentric Sun–Moon Angular Separation\")\n",
    "    plt.xlabel(\"Date\"); plt.ylabel(\"Degrees\"); plt.grid(True); plt.legend(); plt.tight_layout()\n",
    "    plt.show()\n",
    "\n",
    "    print(\"\\n=== Solar eclipse CANDIDATE timestamps (geocenter heuristic) ===\")\n",
    "    if not solar_dates:\n",
    "        print(\"None at current threshold / cadence.\")\n",
    "    else:\n",
    "        for d in solar_dates:\n",
    "            print(d.strftime(\"%Y-%m-%d %H:%M\"))\n",
    "\n",
    "    print(\"\\n=== Lunar eclipse CANDIDATE windows (umbra criterion at Moon) ===\")\n",
    "    if not lunar_windows:\n",
    "        print(\"None at current tolerance / cadence.\")\n",
    "    else:\n",
    "        for (a, b) in lunar_windows:\n",
    "            print(f\"{a.strftime('%Y-%m-%d %H:%M')}  →  {b.strftime('%Y-%m-%d %H:%M')}\")\n",
    "\n"
   ]
  },
  {
   "cell_type": "markdown",
   "id": "ee7ea5e6",
   "metadata": {},
   "source": [
    "### Run Simulation"
   ]
  },
  {
   "cell_type": "code",
   "execution_count": null,
   "id": "45f9182d",
   "metadata": {},
   "outputs": [],
   "source": [
    "run_sim(start=\"2025-01-01\", stop=\"2025-12-31\", solar_sep_threshold_deg=0.6, sep_step_hours=3)"
   ]
  }
 ],
 "metadata": {
  "kernelspec": {
   "display_name": "astro_sandbox",
   "language": "python",
   "name": "python3"
  },
  "language_info": {
   "codemirror_mode": {
    "name": "ipython",
    "version": 3
   },
   "file_extension": ".py",
   "mimetype": "text/x-python",
   "name": "python",
   "nbconvert_exporter": "python",
   "pygments_lexer": "ipython3",
   "version": "3.9.23"
  }
 },
 "nbformat": 4,
 "nbformat_minor": 5
}

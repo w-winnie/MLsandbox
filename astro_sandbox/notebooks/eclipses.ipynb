{
 "cells": [
  {
   "cell_type": "markdown",
   "id": "2925aa93",
   "metadata": {},
   "source": [
    "In this notebook we try and calculate when does an eclipse occur based on observational data (position of sun, moon and earth) obtained from spicepy package -   \n",
    "more information about it can be found here - https://naif.jpl.nasa.gov/naif/aboutspice.html"
   ]
  },
  {
   "cell_type": "markdown",
   "id": "a202a532",
   "metadata": {},
   "source": [
    "To summarize this notebook - we aim to findwhen did an eclipse (solar/lunar) occur in a given duration using the position of sun and moon  \n",
    "We get radius of Moon and sun (planetary constants) and positional data (ephemeris) from NASA's SPICE python package  \n",
    "then we calculate vectors for these objects from our point of observation and find the angular separation of the two objects and their angular size as seen from our point of observation   \n",
    "using their separation and size we calculate an overlap fraction and classify the eclipse"
   ]
  },
  {
   "cell_type": "markdown",
   "id": "e201cf49",
   "metadata": {},
   "source": [
    "### Imports"
   ]
  },
  {
   "cell_type": "code",
   "execution_count": 1,
   "id": "d9dd7c05",
   "metadata": {},
   "outputs": [],
   "source": [
    "import matplotlib.pyplot as plt\n",
    "from datetime import datetime, timedelta\n",
    "import numpy as np\n",
    "import math"
   ]
  },
  {
   "cell_type": "markdown",
   "id": "5346105f",
   "metadata": {},
   "source": [
    "\n",
    "https://naif.jpl.nasa.gov/naif/Ancillary_Data_Production_v2.pdf"
   ]
  },
  {
   "cell_type": "code",
   "execution_count": 2,
   "id": "bf8b5057",
   "metadata": {},
   "outputs": [],
   "source": [
    "# https://naif.jpl.nasa.gov/naif/aboutspice.html\n",
    "import spiceypy as spice"
   ]
  },
  {
   "cell_type": "markdown",
   "id": "354651b6",
   "metadata": {},
   "source": [
    "### Constants"
   ]
  },
  {
   "cell_type": "code",
   "execution_count": 3,
   "id": "cd8ec025",
   "metadata": {},
   "outputs": [],
   "source": [
    "DEG = 180.0/np.pi #degrees #spice angles are in radians\n",
    "MU_SUN = 1.32712440018e11  #km^3/s^2 #standard gravitational parameter of Sun"
   ]
  },
  {
   "cell_type": "markdown",
   "id": "36f344f4",
   "metadata": {},
   "source": [
    "### Get Data"
   ]
  },
  {
   "cell_type": "markdown",
   "id": "ebfea676",
   "metadata": {},
   "source": [
    "We load 3 files,   \n",
    "leap seconds file (to find the time eclipse in earth times - as the clocks get corrected sometimes),   \n",
    "planetary constants (for radius of planets so we can calculate apprent sizes) and   \n",
    "ephemeris data (to find position of different celestial bodies)"
   ]
  },
  {
   "cell_type": "code",
   "execution_count": 4,
   "id": "95dba3d2",
   "metadata": {},
   "outputs": [],
   "source": [
    "# https://naif.jpl.nasa.gov/pub/naif/generic_kernels/pck/\n",
    "# https://naif.jpl.nasa.gov/pub/naif/generic_kernels/lsk/\n",
    "\n",
    "def load_kernels():\n",
    "    spice.furnsh(\"../data/naif0012.tls\")      # Leap seconds - conversion of earth time to ephemeris time\n",
    "    spice.furnsh(\"../data/de440s.bsp\")        # Ephemeris data - position and velocities\n",
    "    spice.furnsh(\"../data/pck00011.tpc\")      # Planetary constants - radius, spin axes, rotation rates etc."
   ]
  },
  {
   "cell_type": "markdown",
   "id": "8ce33628",
   "metadata": {},
   "source": [
    "### Get Apparent Distance between objects - Angle between 2 Vectors"
   ]
  },
  {
   "cell_type": "markdown",
   "id": "dac55b32",
   "metadata": {},
   "source": [
    "This method defines how to get an angle between two vectors through a dot product - this gives us apparant separation between two celestial bodies as seen from a third body   \n",
    "(e.g. we can take position of sun and moon as seen from earth - calculate the vectors and the angular separation between sun and moon as seen from earth)"
   ]
  },
  {
   "attachments": {
    "image.png": {
     "image/png": "[encoded data removed]"
    }
   },
   "cell_type": "markdown",
   "id": "964ee3c5",
   "metadata": {},
   "source": [
    "![image.png](attachment:image.png)"
   ]
  },
  {
   "cell_type": "code",
   "execution_count": 5,
   "id": "5931826e",
   "metadata": {},
   "outputs": [],
   "source": [
    "def get_angle_between_vectors(v1, v2):\n",
    "    v1 = np.array(v1, dtype=float)\n",
    "    v2 = np.array(v2, dtype=float)\n",
    "    dot = np.dot(v1, v2)\n",
    "    norm1 = np.linalg.norm(v1)\n",
    "    norm2 = np.linalg.norm(v2)\n",
    "    if norm1 == 0 or norm2 == 0:\n",
    "        raise ValueError(\"One of the vectors has zero length\")\n",
    "    cos_theta = dot / (norm1 * norm2)\n",
    "    cos_theta = np.clip(cos_theta, -1.0, 1.0)\n",
    "    return np.arccos(cos_theta)\n",
    "    # return spice.vsep(v1, v2)"
   ]
  },
  {
   "cell_type": "markdown",
   "id": "48db9f01",
   "metadata": {},
   "source": [
    "### Get Apparent Size - Angular Radius"
   ]
  },
  {
   "cell_type": "markdown",
   "id": "efdc0d44",
   "metadata": {},
   "source": [
    "this method helps us determine how big a body of given radius looks from given distance by a second body "
   ]
  },
  {
   "attachments": {
    "image.png": {
     "image/png": "[encoded data removed]"
    }
   },
   "cell_type": "markdown",
   "id": "ced039e6",
   "metadata": {},
   "source": [
    "![image.png](attachment:image.png)"
   ]
  },
  {
   "cell_type": "code",
   "execution_count": 6,
   "id": "7174d9d0",
   "metadata": {},
   "outputs": [],
   "source": [
    "def get_angular_radius(radius_km, dist_km):\n",
    "    x = max(0.0, min(1.0, radius_km / max(dist_km, 1e-9)))#values clamped [0,1]\n",
    "    return math.asin(x)"
   ]
  },
  {
   "cell_type": "markdown",
   "id": "ceeb8876",
   "metadata": {},
   "source": [
    "### Get Radius"
   ]
  },
  {
   "cell_type": "markdown",
   "id": "1a7ebc6a",
   "metadata": {},
   "source": [
    "This method basically gets object radius from SPICE  \n",
    "SPICE stores 3 radii (across x, y, z) - as things are not perfect spheres  \n",
    "so we take a mean of the 3  "
   ]
  },
  {
   "cell_type": "code",
   "execution_count": 7,
   "id": "5672eaf7",
   "metadata": {},
   "outputs": [],
   "source": [
    "# https://naif.jpl.nasa.gov/pub/naif/toolkit_docs/IDL/icy/cspice_bodvrd.html\n",
    "def get_mean_radius_km(body_name):\n",
    "    radii = spice.bodvrd(body_name.upper(), \"RADII\", 3)[1]\n",
    "    return float(np.mean(radii))"
   ]
  },
  {
   "cell_type": "markdown",
   "id": "fe6adb53",
   "metadata": {},
   "source": [
    "### Get State Vector"
   ]
  },
  {
   "cell_type": "markdown",
   "id": "d383006b",
   "metadata": {},
   "source": [
    "State vectors basically a vector concatenating position and velocity of a body in 3 cartesian coordinates w.r.t. another body  \n",
    "This method uses the SPICE library to pass in object codes and get a vector representing the position and velocities of the bodies  "
   ]
  },
  {
   "attachments": {
    "image.png": {
     "image/png": "[encoded data removed]"
    }
   },
   "cell_type": "markdown",
   "id": "81b5e612",
   "metadata": {},
   "source": [
    "![image.png](attachment:image.png)"
   ]
  },
  {
   "cell_type": "code",
   "execution_count": 8,
   "id": "578d1fb6",
   "metadata": {},
   "outputs": [],
   "source": [
    "# codes for solar system bodies\n",
    "# 10 - Sun, 399 - Earth, 301 - Moon\n",
    "# https://naif.jpl.nasa.gov/pub/naif/toolkit_docs/C/req/naif_ids.html#Planets%20and%20Satellites\n",
    "\n",
    "def get_state_vec(targ, obs, et, ref=\"J2000\"):\n",
    "    state, lt = spice.spkgeo(targ=targ, et=et, ref=ref, obs=obs)\n",
    "    return np.array(state[:3])"
   ]
  },
  {
   "cell_type": "markdown",
   "id": "ae582477",
   "metadata": {},
   "source": [
    "### Get Angular Separation  "
   ]
  },
  {
   "cell_type": "markdown",
   "id": "e4c669bc",
   "metadata": {},
   "source": [
    "This method uses the above defined method to get the of sun and moon as observed from earth - at each point of time in a given time range  "
   ]
  },
  {
   "cell_type": "code",
   "execution_count": 9,
   "id": "afb8fd4d",
   "metadata": {},
   "outputs": [],
   "source": [
    "def solar_moon_separation_over_range(start_date, end_date, step_hours=6):\n",
    "    ets, seps_deg, dates = [], [], []\n",
    "    t = start_date\n",
    "    while t <= end_date:\n",
    "        et = spice.utc2et(t.strftime(\"%Y-%m-%dT%H:%M:%S\"))\n",
    "        r_es = get_state_vec(10, 399, et)     # target sun  10 wrt Earth 399\n",
    "        r_em = get_state_vec(301, 399, et)    # target moon 301 wrt Earth 399\n",
    "        sep = get_angle_between_vectors(r_es, r_em) * DEG \n",
    "        ets.append(et); seps_deg.append(sep); dates.append(t)\n",
    "        t += timedelta(hours=step_hours)\n",
    "    return np.array(ets), np.array(seps_deg), dates"
   ]
  },
  {
   "cell_type": "markdown",
   "id": "19a0f229",
   "metadata": {},
   "source": [
    "### Get Eclipse overlap "
   ]
  },
  {
   "cell_type": "markdown",
   "id": "b21aa462",
   "metadata": {},
   "source": [
    "This method calculates overlap between two objects by comparing their angular (apparent) separation and their angular (apparent) size"
   ]
  },
  {
   "cell_type": "code",
   "execution_count": 10,
   "id": "9023f0f0",
   "metadata": {},
   "outputs": [],
   "source": [
    "def circle_overlap_fraction(target_r, eclipsing_body_r, center_dist, eps=1e-12):\n",
    "    r1, r2, d = float(target_r), float(eclipsing_body_r), float(center_dist)\n",
    "\n",
    "    #distance between circles centers is greater than sum of radius (no touch)\n",
    "    if d >= r1 + r2: \n",
    "        return 0.0\n",
    "    #distance between circles is greater than diff of radius (total eclipse)\n",
    "    # target body inside eclipsing body - eclipsing body is larger\n",
    "    if d <= abs(r2 - r1) and r2 >= r1:\n",
    "        return 1.0\n",
    "    #distance between circles is less than diff of radius (partial eclipse on target)\n",
    "    #eclipsing body inside target - eclipsing body is smaller \n",
    "    if d <= abs(r2 - r1) and r2 < r1:\n",
    "        return (math.pi * r2**2) / (math.pi * r1**2)\n",
    "\n",
    "    # Partial overlap\n",
    "    # law of cosines (angles at which circles intersect))\n",
    "    c1 = (d**2 + r1**2 - r2**2) / (2*d*r1 + eps)\n",
    "    c2 = (d**2 + r2**2 - r1**2) / (2*d*r2 + eps)\n",
    "    c1 = max(-1.0, min(1.0, c1)) # clip to [-1,1] to avoid fp issues\n",
    "    c2 = max(-1.0, min(1.0, c2))\n",
    "\n",
    "    # area of circular segments\n",
    "    a1 = r1**2 * math.acos(c1)\n",
    "    a2 = r2**2 * math.acos(c2)\n",
    "    # area of triangle formed by circles centers and intersection points (Heron's)\n",
    "    a3 = 0.5 * math.sqrt(max(0.0, (-d+r1+r2)*(d+r1-r2)*(d-r1+r2)*(d+r1+r2)))\n",
    "\n",
    "    overlap_area = a1 + a2 - a3\n",
    "    target_area = math.pi * r1**2\n",
    "    return max(0.0, min(1.0, overlap_area / (target_area + eps)))"
   ]
  },
  {
   "cell_type": "markdown",
   "id": "770a3559",
   "metadata": {},
   "source": [
    "### Get Gamma "
   ]
  },
  {
   "cell_type": "markdown",
   "id": "da04b453",
   "metadata": {},
   "source": [
    "This is a metric I added to compare with NASA's catalog metrics as seen here - https://eclipse.gsfc.nasa.gov/SEgoogle/SEgoogle2021.html  \n",
    "this metric indicates the offset of the eclipse from earth's center"
   ]
  },
  {
   "cell_type": "code",
   "execution_count": 11,
   "id": "ac07bd8a",
   "metadata": {},
   "outputs": [],
   "source": [
    "def compute_gamma_at_time(et):\n",
    "    r_es = get_state_vec(10,  399, et)   # Sun wrt Earth\n",
    "    r_em = get_state_vec(301, 399, et)   # Moon wrt Earth\n",
    "\n",
    "    # Shadow axis direction at the Moon toward the sun in the Earth frame\n",
    "    u = r_es - r_em                      # vector Moon - Sun in Earth frame\n",
    "    u = u / np.linalg.norm(u)            # unit direction\n",
    "\n",
    "    # Closest vector from the line (through r_em along u) to Earth's center (origin):\n",
    "    # v = - u × (r_em × u)\n",
    "    v = -np.cross(u, np.cross(u, r_em))\n",
    "    # Sign: north (+) if v has positive component along J2000 +Z (Earth's north)\n",
    "    sign = np.sign(np.dot(np.array([0.0, 0.0, 1.0]), v))\n",
    "\n",
    "    Re_eq = get_mean_radius_km(body_name=\"EARTH\")    \n",
    "    gamma = sign * (np.linalg.norm(v) / Re_eq)\n",
    "    return gamma"
   ]
  },
  {
   "cell_type": "markdown",
   "id": "c32ec53c",
   "metadata": {},
   "source": [
    "### Get Metrics"
   ]
  },
  {
   "cell_type": "markdown",
   "id": "804ab703",
   "metadata": {},
   "source": [
    "Algorithm -   \n",
    "1 - Get Data  \n",
    "          1.1 - Get Radius of Moon and sun rom NASA's SPICE python package (planetary constants)  \n",
    "          1.2 - Get Sun and Moon positional data from NASA's SPICE python package (ephemeris)  \n",
    "2 - Calculate position vectors for Sun and Moon wrt to Earth => (r_es, r_em)   \n",
    "3 - Calculate the distance of sun & moon from earth => (d_es, d_em)     \n",
    "4 - Calculate apparent size (angular radii) of sun and moon as seen from earth using their size R_sun, R_moon and distance from earth d_es, d_em => (a_sun, a_moon)  \n",
    "4 - Calculate apparent separation between sun and moon as seen from earth using r_es and r_em => (sep)  \n",
    "5 - Calculate fraction of overlap by comparing angular size of sun and moon a_sun, a_moon and their angular separation sep as seen from the earth => (frac)  \n",
    "6 - Classify "
   ]
  },
  {
   "cell_type": "code",
   "execution_count": 25,
   "id": "c5e8780d",
   "metadata": {},
   "outputs": [],
   "source": [
    "def get_solar_metrics_at_time(et):\n",
    "    # radius of sun and moon in km\n",
    "    R_sun  = get_mean_radius_km(\"SUN\")\n",
    "    R_moon = get_mean_radius_km(\"MOON\")\n",
    "    R_earth = get_mean_radius_km(\"EARTH\")\n",
    "\n",
    "    #position vectors for sun and moon wrt earth\n",
    "    r_es = get_state_vec(10, 399, et)\n",
    "    r_em = get_state_vec(301, 399, et)\n",
    "\n",
    "    # distance of sun and moon from earth\n",
    "    d_es = np.linalg.norm(r_es) \n",
    "    d_em = np.linalg.norm(r_em)  \n",
    "\n",
    "    # apparent angular radius (size) of sun and moon from earth\n",
    "    a_sun  = get_angular_radius(R_sun,  d_es)\n",
    "    a_moon = get_angular_radius(R_moon, d_em)\n",
    "\n",
    "    # apparent distance between sun and moon from earth\n",
    "    sep = get_angle_between_vectors(r_es, r_em) #Only from geocenter\n",
    "\n",
    "    # Anywhere from earth - Lunar horizontal parallax ≈ asin(R_earth / d_em)  (~57 arcmin)\n",
    "    pi_E = math.asin(min(1.0, R_earth / max(d_em, 1e-9)))\n",
    "    # We can reduce the geocenter separation by at most pi_E by choosing an optimalobserver on Earth's surface\n",
    "    sep_global = max(0.0, sep - pi_E)\n",
    "\n",
    "    # fraction of Sun's disk covered (planar small-angle approx)\n",
    "    frac = circle_overlap_fraction(a_sun, a_moon, sep_global)\n",
    "\n",
    "    if sep_global <= abs(a_moon - a_sun):\n",
    "        if a_moon > a_sun: #if moon looks bigger than sun\n",
    "            kind = \"total\"\n",
    "        elif a_moon < a_sun: #if moon looks smaller than sun\n",
    "            kind = \"annular\"\n",
    "        else:\n",
    "            kind = \"exactly equal angular sizes\"\n",
    "    elif frac > 0: # partial eclipse\n",
    "        kind = \"partial\"\n",
    "    else:\n",
    "        kind = \"no eclipse\"\n",
    "\n",
    "    gamma = compute_gamma_at_time(et)\n",
    "\n",
    "    return {\n",
    "        \"sun_obscuration_fraction\": frac,     \n",
    "        \"sep_deg\": sep * DEG,\n",
    "        \"alpha_sun_deg\": a_sun * DEG,\n",
    "        \"alpha_moon_deg\": a_moon * DEG,\n",
    "        \"classification\": kind,\n",
    "        \"gamma\": gamma\n",
    "    }\n"
   ]
  },
  {
   "cell_type": "markdown",
   "id": "a6b314f4",
   "metadata": {},
   "source": [
    "The calculation of lunar eclipse is similar to that of a solar one - the only difference is we change our point of observation to be on the moon and then calculate overlap between earth and sun"
   ]
  },
  {
   "cell_type": "code",
   "execution_count": 26,
   "id": "fa461dc8",
   "metadata": {},
   "outputs": [],
   "source": [
    "def get_lunar_metrics_at_time(et):\n",
    "    # radius of sun and moon in km\n",
    "    R_earth = get_mean_radius_km(\"EARTH\")\n",
    "    R_sun   = get_mean_radius_km(\"SUN\")\n",
    "    R_moon  = get_mean_radius_km(\"MOON\")\n",
    "\n",
    "    # position vectors for sun and earth wrt moon\n",
    "    r_em = get_state_vec(301, 399, et)  # Moon wrt Earth\n",
    "    r_es = get_state_vec(10,  399, et)  # Sun  wrt Earth\n",
    "    r_ms = get_state_vec(10, 301, et)   # Sun wrt Moon\n",
    "    d_ms = np.linalg.norm(r_ms)\n",
    "    d_me = np.linalg.norm(r_em)\n",
    "\n",
    "    # apparent angular radius (size) of sun and earth from moon\n",
    "    a_E = get_angular_radius(R_earth, d_me)\n",
    "    a_S = get_angular_radius(R_sun, d_ms)\n",
    "\n",
    "    # shadow angular radii (radians) (angular size of earth - sun)\n",
    "    a_umb = max(0.0, a_E - a_S)\n",
    "    a_pen = a_E + a_S\n",
    "    # in km\n",
    "    r_umb = d_me * math.tan(a_umb)\n",
    "    r_pen = d_me * math.tan(a_pen)\n",
    "\n",
    "    # offset between earth and sun poditiond from moon (radians)\n",
    "    theta = get_angle_between_vectors(r_em, -r_ms)\n",
    "    # in km\n",
    "    s = d_me * theta\n",
    "\n",
    "    # fractions of the Moon's disk covered\n",
    "    frac_umb = circle_overlap_fraction(R_moon, r_umb, s) if r_umb > 0 else 0.0\n",
    "    frac_pen = circle_overlap_fraction(R_moon, r_pen, s)\n",
    "    # along diameter - negative umbral magnitude => no umbral contact; >1 => total (Moon fully within umbra)\n",
    "    umbral_mag    = (r_umb + R_moon - s) / (2.0 * R_moon)\n",
    "    penumbral_mag = (r_pen + R_moon - s) / (2.0 * R_moon)\n",
    "\n",
    "    if frac_umb >= 1.0:\n",
    "        kind = \"total lunar eclipse (Moon fully in umbra)\"\n",
    "    elif frac_umb > 0:\n",
    "        kind = \"partial lunar eclipse (Moon partially in umbra)\"\n",
    "    elif frac_pen > 0:\n",
    "        kind = \"penumbral lunar eclipse (Moon only in penumbra)\"\n",
    "    else:\n",
    "        kind = \"no lunar eclipse\"\n",
    "\n",
    "    return {\n",
    "        \"umbra_fraction_of_moon\": frac_umb,   \n",
    "        \"penumbra_fraction_of_moon\": frac_pen,\n",
    "        \"theta_deg\": theta * DEG,\n",
    "        \"alpha_earth_deg\": a_E * DEG,\n",
    "        \"alpha_sun_deg\": a_S * DEG,\n",
    "        \"classification\": kind,\n",
    "        \"umbral_magnitude\": umbral_mag,\n",
    "        \"penumbral_magnitude\": penumbral_mag,\n",
    "    }\n"
   ]
  },
  {
   "cell_type": "markdown",
   "id": "8c388f21",
   "metadata": {},
   "source": [
    "# Get Eclipse Candidate in a time period"
   ]
  },
  {
   "cell_type": "markdown",
   "id": "e3ecd4d4",
   "metadata": {},
   "source": [
    "Now we just loop over a time period  \n",
    "this loop also contains a condition to find duration and peak of the eclipse"
   ]
  },
  {
   "cell_type": "code",
   "execution_count": 27,
   "id": "657a7f92",
   "metadata": {},
   "outputs": [],
   "source": [
    "def scan_solar_eclipses(start_dt, end_dt, step_size, min_obsc=0.01):\n",
    "    t = start_dt\n",
    "    events = []\n",
    "    active = False\n",
    "    current = None\n",
    "    while t <= end_dt:\n",
    "        et = spice.utc2et(t.strftime(\"%Y-%m-%dT%H:%M:%S\"))\n",
    "        m = get_solar_metrics_at_time(et)\n",
    "        if m[\"sun_obscuration_fraction\"] >= min_obsc:\n",
    "            if not active:\n",
    "                active = True\n",
    "                current = {\"start\": t, \"peak\": (t, m), \"peak_val\": m[\"sun_obscuration_fraction\"], \"min_gamma\": (t, m[\"gamma\"], abs(m[\"gamma\"]))}\n",
    "            else:\n",
    "                if m[\"sun_obscuration_fraction\"] > current[\"peak_val\"]:\n",
    "                    current[\"peak\"] = (t, m)\n",
    "                    current[\"peak_val\"] = m[\"sun_obscuration_fraction\"]\n",
    "                if abs(m[\"gamma\"]) < current[\"min_gamma\"][2]:\n",
    "                    current[\"min_gamma\"] = (t, m[\"gamma\"], abs(m[\"gamma\"]))\n",
    "        elif active:\n",
    "            current[\"end\"] = t\n",
    "            events.append(current)\n",
    "            active = False\n",
    "        t += step_size\n",
    "    if active:\n",
    "        current[\"end\"] = end_dt\n",
    "        events.append(current)\n",
    "    return events"
   ]
  },
  {
   "cell_type": "code",
   "execution_count": 28,
   "id": "79e94e96",
   "metadata": {},
   "outputs": [],
   "source": [
    "def scan_lunar_eclipses(start_dt, end_dt, step_size, min_umb_or_pen=0.01):\n",
    "    t = start_dt\n",
    "    events = []\n",
    "    active = False\n",
    "    current = None\n",
    "    while t <= end_dt:\n",
    "        et = spice.utc2et(t.strftime(\"%Y-%m-%dT%H:%M:%S\"))\n",
    "        m = get_lunar_metrics_at_time(et)\n",
    "        measure = max(m[\"umbra_fraction_of_moon\"], m[\"penumbra_fraction_of_moon\"])\n",
    "        if measure >= min_umb_or_pen:\n",
    "            if not active:\n",
    "                active = True\n",
    "                current = {\"start\": t, \"peak\": (t, m), \"peak_val\": measure}\n",
    "            else:\n",
    "                if measure > current[\"peak_val\"]:\n",
    "                    current[\"peak\"] = (t, m)\n",
    "                    current[\"peak_val\"] = measure\n",
    "        elif active:\n",
    "            current[\"end\"] = t\n",
    "            events.append(current)\n",
    "            active = False\n",
    "        t += step_size\n",
    "    if active:\n",
    "        current[\"end\"] = end_dt\n",
    "        events.append(current)\n",
    "    return events"
   ]
  },
  {
   "cell_type": "markdown",
   "id": "08bf2a4d",
   "metadata": {},
   "source": [
    "# RUN"
   ]
  },
  {
   "cell_type": "code",
   "execution_count": 29,
   "id": "83c9c6da",
   "metadata": {},
   "outputs": [
    {
     "name": "stdout",
     "output_type": "stream",
     "text": [
      "SOLAR ECLIPSE CANDIDATES:\n",
      "2024-04-08 15:45:00 → 2024-04-08 20:55:00 | peak @ 2024-04-08 16:40:00 | obsc=1.000 | total| gamma=-1.006\n",
      "2024-10-02 15:50:00 → 2024-10-02 21:50:00 | peak @ 2024-10-02 16:55:00 | obsc=0.846 | annular| gamma=0.996\n",
      "2025-03-29 08:55:00 → 2025-03-29 12:45:00 | peak @ 2025-03-29 10:50:00 | obsc=0.939 | partial| gamma=1.042\n",
      "2025-09-21 17:35:00 → 2025-09-21 21:55:00 | peak @ 2025-09-21 19:45:00 | obsc=0.804 | partial| gamma=-1.067\n",
      "2026-02-17 10:00:00 → 2026-02-17 14:30:00 | peak @ 2026-02-17 12:40:00 | obsc=0.922 | annular| gamma=-1.005\n",
      "2026-08-12 15:40:00 → 2026-08-12 20:00:00 | peak @ 2026-08-12 17:00:00 | obsc=1.000 | total| gamma=1.000\n",
      "LUNAR ECLIPSE CANDIDATES:\n",
      "2024-03-25 05:00:00 → 2024-03-25 10:00:00 | peak @ 2024-03-25 07:00:00 | umbra=0.000, pen=0.962 | penumbral lunar eclipse (Moon only in penumbra)| umbral_mag=-0.161, penumbral_mag=0.924\n",
      "2024-09-18 01:00:00 → 2024-09-18 05:00:00 | peak @ 2024-09-18 03:00:00 | umbra=0.014, pen=1.000 | partial lunar eclipse (Moon partially in umbra)| umbral_mag=0.046, penumbral_mag=0.997\n",
      "2025-03-14 05:00:00 → 2025-03-14 10:00:00 | peak @ 2025-03-14 06:00:00 | umbra=0.676, pen=1.000 | partial lunar eclipse (Moon partially in umbra)| umbral_mag=0.671, penumbral_mag=1.750\n",
      "2025-09-07 16:00:00 → 2025-09-07 21:00:00 | peak @ 2025-09-07 17:00:00 | umbra=0.467, pen=1.000 | partial lunar eclipse (Moon partially in umbra)| umbral_mag=0.505, penumbral_mag=1.486\n",
      "2026-03-03 09:00:00 → 2026-03-03 15:00:00 | peak @ 2026-03-03 10:00:00 | umbra=0.059, pen=1.000 | partial lunar eclipse (Moon partially in umbra)| umbral_mag=0.121, penumbral_mag=1.151\n",
      "2026-08-28 02:00:00 → 2026-08-28 07:00:00 | peak @ 2026-08-28 03:00:00 | umbra=0.249, pen=1.000 | partial lunar eclipse (Moon partially in umbra)| umbral_mag=0.323, penumbral_mag=1.356\n"
     ]
    }
   ],
   "source": [
    "load_kernels()\n",
    "start = datetime(2024, 1, 1)\n",
    "end   = datetime(2026, 12, 31)\n",
    "step_size_solar = timedelta(minutes=5)\n",
    "step_size_lunar = timedelta(hours=1)\n",
    "\n",
    "solar_events = scan_solar_eclipses(start, end, step_size_solar, min_obsc=0.01)\n",
    "print(\"SOLAR ECLIPSE CANDIDATES:\")\n",
    "for ev in solar_events:\n",
    "    peak_t, peak_m = ev[\"peak\"]\n",
    "    print(f\"{ev['start']} → {ev['end']} | peak @ {peak_t} | obsc={peak_m['sun_obscuration_fraction']:.3f} | {peak_m['classification'] }| gamma={peak_m['gamma']:.3f}\")\n",
    "\n",
    "lunar_events = scan_lunar_eclipses(start, end, step_size_lunar, min_umb_or_pen=0.01)\n",
    "print(\"LUNAR ECLIPSE CANDIDATES:\")\n",
    "for ev in lunar_events:\n",
    "    peak_t, peak_m = ev[\"peak\"]\n",
    "    print(f\"{ev['start']} → {ev['end']} | peak @ {peak_t} | \"\n",
    "          f\"umbra={peak_m['umbra_fraction_of_moon']:.3f}, pen={peak_m['penumbra_fraction_of_moon']:.3f} | {peak_m['classification']}| umbral_mag={peak_m['umbral_magnitude']:.3f}, penumbral_mag={peak_m['penumbral_magnitude']:.3f}\")\n"
   ]
  },
  {
   "cell_type": "markdown",
   "id": "026458e6",
   "metadata": {},
   "source": [
    "https://eclipse.gsfc.nasa.gov/SEgoogle/SEgoogle2021.html  \n",
    "https://eclipse.gsfc.nasa.gov/LEdecade/LEdecade2021.html"
   ]
  }
 ],
 "metadata": {
  "kernelspec": {
   "display_name": "astro_sandbox",
   "language": "python",
   "name": "python3"
  },
  "language_info": {
   "codemirror_mode": {
    "name": "ipython",
    "version": 3
   },
   "file_extension": ".py",
   "mimetype": "text/x-python",
   "name": "python",
   "nbconvert_exporter": "python",
   "pygments_lexer": "ipython3",
   "version": "3.9.23"
  }
 },
 "nbformat": 4,
 "nbformat_minor": 5
}
